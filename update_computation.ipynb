{
 "cells": [
  {
   "cell_type": "code",
   "execution_count": null,
   "metadata": {},
   "outputs": [],
   "source": [
    "Zt_cov = np.zeros((Zts.shape[1],Zts.shape[1],Zts.shape[2]))\n",
    "x_t = np.zeros((Zts.shape[1],Zts.shape[2]))\n",
    "for i_t in range(Zts.shape[2]):\n",
    "    Zt = Zts[:,:,i_t]\n",
    "    Zt_cov[:,:,i_t] = (Zt.T).dot(Zt)\n",
    "    if i_t<Zts.shape[2]-1:\n",
    "        x_t[:,i_t] = (Zt.T).dot(rs[:,i_t+1])"
   ]
  },
  {
   "cell_type": "code",
   "execution_count": null,
   "metadata": {},
   "outputs": [],
   "source": [
    "np.random.seed(4134132)\n",
    "K = 5\n",
    "L = Zts.shape[1]\n",
    "N = Zts.shape[0]\n",
    "# initialization \n",
    "Gamma_b_0 = np.random.rand(L,K)\n",
    "Gamma_b_1 = np.array(Gamma_b_0, copy=True)\n",
    "F_0 = np.random.rand(K,T)\n",
    "F_1 = np.array(F_0, copy=True)\n",
    "iter = 0\n",
    "tol = 1e-6\n",
    "start_time = time.time()\n",
    "max_iter = 1001 \n",
    "max_abs_delta_F = np.zeros(max_iter)\n",
    "max_abs_delta_Gamma_b = np.zeros(max_iter)\n",
    "while iter < max_iter:\n",
    "    # update F\n",
    "    for i_t in range(T-1): \n",
    "        #Zt = Zts[:,:,i_t]\n",
    "        mat = Gamma_b_0.T.dot(Zt_cov[:,:,i_t]).dot(Gamma_b_0)\n",
    "        F_1[:,i_t+1] = np.linalg.inv(mat).dot(Gamma_b_0.T).dot(x_t[:,i_t]) \n",
    "    # update Gamma_b\n",
    "    mat_1 = np.zeros((L*K,L*K))\n",
    "    mat_2 = np.zeros(L*K)\n",
    "    for i_t in range(T-1):\n",
    "        #Zt = Zts[:,:,i_t]\n",
    "        #mat_0 = np.kron(Zt, F_1[:,i_t+1].T)\n",
    "        cur_F = F_1[:,i_t+1].reshape(len(cur_F),1)\n",
    "        mat_1 += np.kron(Zt_cov[:,:,i_t], (cur_F.dot(cur_F.T)) ) # mat_0.T.dot(mat_0)\n",
    "        mat_2 += np.kron(x_t[:,i_t], cur_F.flatten()) #mat_0.T.dot(rs[:,i_t+1])\n",
    "    Gamma_b_1 = np.linalg.inv(mat_1).dot(mat_2).reshape(L,K)\n",
    "    # normalization \n",
    "    U,S,V = np.linalg.svd(Gamma_b_1, full_matrices=False)\n",
    "    Gamma_b_1 = Gamma_b_1.dot(V.T).dot(np.diag(1/S))\n",
    "\n",
    "    max_abs_delta_F[iter] = np.sum(np.abs(F_0-F_1)) / (T * K)\n",
    "    max_abs_delta_Gamma_b[iter] = np.sum(np.abs(Gamma_b_0-Gamma_b_1)) / (L * K)\n",
    "    # max_abs_delta_F[iter] = np.amax(np.abs(F_0-F_1))\n",
    "    # max_abs_delta_Gamma_b[iter] = np.amax(np.abs(Gamma_b_0-Gamma_b_1))\n",
    "    \n",
    "    if max_abs_delta_F[iter] <= tol and max_abs_delta_Gamma_b[iter] <= tol:  \n",
    "        print('iter', iter, '\\tmax_abs_delta_F', max_abs_delta_F[iter], \n",
    "              '\\tmax_abs_delta_Gamma_b', max_abs_delta_Gamma_b[iter])\n",
    "        break\n",
    "    if not iter % 100: \n",
    "        print('iter', iter, '\\tmax_abs_delta_F', max_abs_delta_F[iter], \n",
    "              '\\tmax_abs_delta_Gamma_b', max_abs_delta_Gamma_b[iter])\n",
    "    Gamma_b_0 = np.array(Gamma_b_1, copy=True)\n",
    "    F_0 = np.array(F_1, copy=True)\n",
    "\n",
    "    iter += 1 \n",
    "end_time = time.time()\n",
    "print(\"Elapsed time\", end_time - start_time)"
   ]
  }
 ],
 "metadata": {
  "kernelspec": {
   "display_name": "Python 3",
   "language": "python",
   "name": "python3"
  },
  "language_info": {
   "codemirror_mode": {
    "name": "ipython",
    "version": 3
   },
   "file_extension": ".py",
   "mimetype": "text/x-python",
   "name": "python",
   "nbconvert_exporter": "python",
   "pygments_lexer": "ipython3",
   "version": "3.7.3"
  }
 },
 "nbformat": 4,
 "nbformat_minor": 2
}
