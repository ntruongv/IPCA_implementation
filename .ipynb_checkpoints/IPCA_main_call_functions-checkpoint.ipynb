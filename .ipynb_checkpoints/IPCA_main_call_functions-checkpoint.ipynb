{
 "cells": [
  {
   "cell_type": "code",
   "execution_count": 1,
   "metadata": {},
   "outputs": [
    {
     "name": "stderr",
     "output_type": "stream",
     "text": [
      "/anaconda3/lib/python3.7/site-packages/numpy/lib/arraysetops.py:569: FutureWarning: elementwise comparison failed; returning scalar instead, but in the future will perform elementwise comparison\n",
      "  mask |= (ar1 == a)\n"
     ]
    },
    {
     "name": "stdout",
     "output_type": "stream",
     "text": [
      "Column names:\n",
      " ['yy', 'mm', 'date', 'permno', 'ret', 'q10', 'q20', 'q50', 'prc', 'a2me', 'ato', 'beme', 'c', 'cto', 'd2a', 'dpi2a', 'e2p', 'fc2y', 'free_cf', 'investment', 'lme', 'lturnover', 'noa', 'oa', 'ol', 'pcm', 'pm', 'prof', 'q', 'rna', 'roa', 'roe', 's2p', 'sga2m', 'at', 'beta', 'cum_return_12_2', 'cum_return_12_7', 'cum_return_1_0', 'cum_return_36_13', 'idio_vol', 'spread_mean', 'suv', 'rel_to_high_price', 'lev', 'size', 'log_at', 'sga2s']\n",
      "Dataframe shape: (1048575, 48)\n",
      "Number of unique stocks: 7593\n",
      "Number of unique dates: 623\n",
      "Sub-sampled dataframe shape: (100, 41)\n",
      "1971 1191 => 1972 1155 => 1974 1126 => 1976 1054 => 1977 894 => 1979 812 => 1981 740 => 1982 652 => 1984 600 => 1986 518 => 1987 422 => 1989 362 => 1991 317 => 1992 303 => 1994 293 => 1996 269 => 1997 247 => 1999 220 => 2001 195 => 2002 172 => 2004 161 => 2006 148 => 2007 142 => 2009 131 => 2011 124 => 2012 118 => 2014 113 => END\n",
      "1/31/71 113\n",
      "5/31/79 113\n",
      "9/30/87 113\n",
      "1/31/96 113\n",
      "5/31/04 113\n",
      "9/30/12 113\n",
      "Zts.shape (N,L,T) (113, 36, 521)\n",
      "np.amax(Zts) 0.4911504424778761\n",
      "np.amin(Zts) -0.5\n"
     ]
    }
   ],
   "source": [
    "import datetime\n",
    "import altair as alt\n",
    "import pandas as pd\n",
    "import numpy as np\n",
    "import matplotlib.pyplot as plt\n",
    "import seaborn as sns\n",
    "import time \n",
    "import multiprocessing as mp\n",
    "from sklearn.decomposition import PCA\n",
    "char = ['beta','a2me','log_at','ato','beme','c','cto','d2a','dpi2a','e2p','fc2y',\n",
    "       'free_cf','idio_vol','investment','lev','size','lturnover','noa','oa','ol','pcm',\n",
    "        'pm','prof','q','rel_to_high_price','rna','roa','roe',\n",
    "        'cum_return_12_2','cum_return_12_7','cum_return_1_0','cum_return_36_13',\n",
    "        's2p','sga2s','spread_mean','suv']\n",
    "\n",
    "df_ = pd.read_csv(\"../Data/Characteristics Freyberger et al.csv\", index_col = 0)\n",
    "df_['size'] = np.log10(df_['lme'])\n",
    "df_['log_at'] = np.log10(df_['at'])\n",
    "df_['sga2s'] = df_['sga2m']/df_['a2me']/df_['ato']\n",
    "df_.sort_values(by = ['yy', 'mm', 'permno']);\n",
    "\n",
    "print(\"Column names:\\n\", list(df_))\n",
    "df = df_.iloc[np.random.choice(df_.shape[0], 100),:][['yy','mm','date','permno','ret']+char]\n",
    "print(\"Dataframe shape:\", df_.shape)\n",
    "print(\"Number of unique stocks:\", pd.unique(df_['permno']).shape[0])\n",
    "print(\"Number of unique dates:\", pd.unique(df_['date']).shape[0])\n",
    "print(\"Sub-sampled dataframe shape:\", df.shape)\n",
    "df.head()\n",
    "\n",
    "stocks = pd.unique(df_['permno'])\n",
    "N = stocks.shape[0]\n",
    "Ts = pd.unique(df_['date']).tolist()\n",
    "Ts = [t for t in Ts if not (int(t[-2:])<=70 and int(t[-2:])>=60)]\n",
    "T = len(Ts)\n",
    "\n",
    "# find common stocks \n",
    "common_stocks = set(stocks)\n",
    "for i_t in range(T): \n",
    "    t = Ts[i_t]  # date \n",
    "    df_t = df_.loc[df_['date']==t,['yy','permno']]\n",
    "    common_stocks = common_stocks.intersection(df_t['permno'])\n",
    "    if not i_t % 20: print(df_t['yy'].iloc[0], len(common_stocks), end=\" => \")  # print every 20 dates \n",
    "print(\"END\")\n",
    "np.savetxt(\"./common_stocks.csv\", np.array(list(common_stocks), dtype=np.int), delimiter=\",\", fmt=\"%d\")\n",
    "\n",
    "# Generate Zt's \n",
    "N_s_by_t = []\n",
    "common_stocks = np.loadtxt(\"./common_stocks.csv\", dtype=np.int)\n",
    "Zts = np.zeros((len(common_stocks),len(char),len(Ts)))\n",
    "rs = np.zeros((len(common_stocks),len(Ts)))\n",
    "for i_t in range(T): \n",
    "    t = Ts[i_t]  # date \n",
    "    df_t = df_.loc[df_['date']==t,['permno','ret']+char]\n",
    "    df_t = df_t.loc[df_t['permno'].apply(lambda x: x in set(common_stocks)),:]\n",
    "    Zt = df_t.sort_values(by=\"permno\")\n",
    "    if not i_t % 100: print(t, Zt.shape[0])\n",
    "    N_s_by_t.append(Zt.shape[0])\n",
    "    # Zts.append(Zt[char])\n",
    "    Zts[:,:,i_t] = Zt[char]\n",
    "    rs[:,i_t] = df_t['ret']\n",
    "Zts_save = np.array(Zts, copy=True)\n",
    "\n",
    "# Augment characteristics \n",
    "Zts = np.array(Zts_save, copy=True)\n",
    "\n",
    "# normalize rank \n",
    "Zts = np.argsort(Zts, axis=0)/Zts.shape[0]-.5\n",
    "print(\"Zts.shape (N,L,T)\", Zts.shape)\n",
    "print(\"np.amax(Zts)\", np.amax(Zts))\n",
    "print(\"np.amin(Zts)\", np.amin(Zts))\n",
    "\n",
    "Zt_cov = np.zeros((Zts.shape[1],Zts.shape[1],Zts.shape[2]))\n",
    "x_t = np.zeros((Zts.shape[1],Zts.shape[2]))\n",
    "for i_t in range(Zts.shape[2]):\n",
    "    Zt = Zts[:,:,i_t]\n",
    "    Zt_cov[:,:,i_t] = (Zt.T).dot(Zt)\n",
    "    if i_t<Zts.shape[2]-1:\n",
    "        x_t[:,i_t] = (Zt.T).dot(rs[:,i_t+1])"
   ]
  },
  {
   "cell_type": "code",
   "execution_count": 49,
   "metadata": {},
   "outputs": [
    {
     "name": "stdout",
     "output_type": "stream",
     "text": [
      "The autoreload extension is already loaded. To reload it, use:\n",
      "  %reload_ext autoreload\n",
      "iter 0 \tmax_abs_delta_F 0.503766923084593 \tmax_abs_delta_Gamma_b 0.5373464495186091\n",
      "iter 100 \tmax_abs_delta_F 0.019973572591970773 \tmax_abs_delta_Gamma_b 0.054385738628302566\n",
      "iter 200 \tmax_abs_delta_F 6.41319243900352e-05 \tmax_abs_delta_Gamma_b 0.0003463054344882869\n",
      "iter 300 \tmax_abs_delta_F 5.569854834468473e-06 \tmax_abs_delta_Gamma_b 3.0270412979062318e-05\n",
      "iter 400 \tmax_abs_delta_F 5.656724082722051e-07 \tmax_abs_delta_Gamma_b 3.0879984023090326e-06\n",
      "iter 500 \tmax_abs_delta_F 7.356318337272058e-08 \tmax_abs_delta_Gamma_b 3.561945377849545e-07\n",
      "iter 600 \tmax_abs_delta_F 0.03034916233356987 \tmax_abs_delta_Gamma_b 0.1629108194087995\n",
      "iter 700 \tmax_abs_delta_F 0.01892055417373999 \tmax_abs_delta_Gamma_b 0.1558515645805907\n",
      "iter 800 \tmax_abs_delta_F 0.020863448536273702 \tmax_abs_delta_Gamma_b 0.1072334235725622\n",
      "iter 900 \tmax_abs_delta_F 0.01977471403198103 \tmax_abs_delta_Gamma_b 0.10290041187371782\n",
      "iter 1000 \tmax_abs_delta_F 0.02927610122468013 \tmax_abs_delta_Gamma_b 0.15606721572322524\n",
      "Elapsed time 163.9857358932495\n"
     ]
    }
   ],
   "source": [
    "%load_ext autoreload\n",
    "%autoreload 2\n",
    "# %reload_ext autoreload\n",
    "\n",
    "from ipca_restricted import ipca_restricted\n",
    "K = 5\n",
    "T = Zts.shape[2]\n",
    "F_1, Gamma_b_0, max_abs_delta_F, max_abs_delta_Gamma_b, cond_F, cond_Gamma_b = \\\n",
    "    ipca_restricted(Zts, Zt_cov, x_t, K, T) "
   ]
  },
  {
   "cell_type": "code",
   "execution_count": 156,
   "metadata": {},
   "outputs": [
    {
     "data": {
      "image/png": "[encoded data removed]",
      "text/plain": [
       "<Figure size 432x288 with 1 Axes>"
      ]
     },
     "metadata": {
      "needs_background": "light"
     },
     "output_type": "display_data"
    },
    {
     "data": {
      "image/png": "[encoded data removed]",
      "text/plain": [
       "<Figure size 432x288 with 1 Axes>"
      ]
     },
     "metadata": {
      "needs_background": "light"
     },
     "output_type": "display_data"
    },
    {
     "data": {
      "image/png": "[encoded data removed]",
      "text/plain": [
       "<Figure size 432x288 with 1 Axes>"
      ]
     },
     "metadata": {
      "needs_background": "light"
     },
     "output_type": "display_data"
    }
   ],
   "source": [
    "plt.figure();\n",
    "plt.plot(max_abs_delta_F[max_abs_delta_F>0], '-o');\n",
    "plt.plot(max_abs_delta_Gamma_b[max_abs_delta_Gamma_b>0], '-o');\n",
    "plt.yscale(\"log\");\n",
    "plt.title(\"Costs\"); \n",
    "\n",
    "plt.figure();\n",
    "plt.plot(cond_F[cond_F>0], '-o');\n",
    "plt.figure();\n",
    "plt.plot(cond_Gamma_b[cond_Gamma_b>0], '-o');\n",
    "plt.title(\"Condition number\"); \n",
    "# plt.yscale(\"log\"); "
   ]
  },
  {
   "cell_type": "markdown",
   "metadata": {},
   "source": [
    "# Simulation"
   ]
  },
  {
   "cell_type": "code",
   "execution_count": 88,
   "metadata": {},
   "outputs": [],
   "source": [
    "import scipy.stats\n",
    "np.random.seed(45123485)\n",
    "N = 113\n",
    "K = 5\n",
    "T = 120\n",
    "L = 36\n",
    "F = np.random.rand(K, T)\n",
    "idx = np.argsort(np.diag(F[:,1:].dot(F[:,1:].T)))\n",
    "F = F[idx,:]\n",
    "\n",
    "Gamma_beta = scipy.stats.ortho_group.rvs(L)\n",
    "U,S,V = np.linalg.svd(Gamma_beta, full_matrices=False)\n",
    "Gamma_beta = Gamma_beta.dot(V.T).dot(np.diag(1/S))\n",
    "Gamma_beta = Gamma_beta[:,:K]\n",
    "eps = np.random.normal(0, .0, size=(N, T))\n",
    "rs = np.zeros((N,T))\n",
    "for i in range(1,T):\n",
    "    Zt = Zts[:,:,i-1]\n",
    "    rs[:,i] = Zt.dot(Gamma_beta.dot(F[:,i])) + eps[:,i]\n",
    "    \n",
    "Zt_cov = np.zeros((Zts.shape[1],Zts.shape[1],Zts.shape[2]))\n",
    "x_t = np.zeros((Zts.shape[1],Zts.shape[2]))\n",
    "for i_t in range(T):\n",
    "    Zt = Zts[:,:,i_t]\n",
    "    Zt_cov[:,:,i_t] = (Zt.T).dot(Zt)\n",
    "    if i_t < T-1:\n",
    "        x_t[:,i_t] = (Zt.T).dot(rs[:,i_t+1])"
   ]
  },
  {
   "cell_type": "code",
   "execution_count": 89,
   "metadata": {},
   "outputs": [
    {
     "name": "stdout",
     "output_type": "stream",
     "text": [
      "The autoreload extension is already loaded. To reload it, use:\n",
      "  %reload_ext autoreload\n",
      "iter 0 \tmax_abs_delta_F 0.33391762502758054 \tmax_abs_delta_Gamma_b 4.805208121837366e-16\n",
      "Elapsed time 0.05084371566772461\n"
     ]
    }
   ],
   "source": [
    "%load_ext autoreload\n",
    "%autoreload 2\n",
    "from ipca_restricted import ipca_restricted\n",
    "\n",
    "F_1, Gamma_b_0, max_abs_delta_F, max_abs_delta_Gamma_b, cond_F, cond_Gamma_b \\\n",
    "    = ipca_restricted(Zts, Zt_cov, x_t, K, T, tol = 1e-12, init = True, Gamma_b_0 = Gamma_beta)\n",
    "# , Gamma_b_0 = Gamma_beta"
   ]
  },
  {
   "cell_type": "code",
   "execution_count": 90,
   "metadata": {},
   "outputs": [
    {
     "data": {
      "text/plain": [
       "6.907795216148219e-15"
      ]
     },
     "execution_count": 90,
     "metadata": {},
     "output_type": "execute_result"
    }
   ],
   "source": [
    "np.linalg.norm(F_1[:,1:] - F[:,1:])"
   ]
  },
  {
   "cell_type": "code",
   "execution_count": 91,
   "metadata": {},
   "outputs": [
    {
     "data": {
      "text/plain": [
       "8.69924415938757e-15"
      ]
     },
     "execution_count": 91,
     "metadata": {},
     "output_type": "execute_result"
    }
   ],
   "source": [
    "np.linalg.norm(Gamma_b_0 - Gamma_beta)"
   ]
  },
  {
   "cell_type": "code",
   "execution_count": 92,
   "metadata": {},
   "outputs": [
    {
     "data": {
      "text/plain": [
       "array([1., 1., 1., 1., 1.])"
      ]
     },
     "execution_count": 92,
     "metadata": {},
     "output_type": "execute_result"
    }
   ],
   "source": [
    "U,S,V = np.linalg.svd(Gamma_b_0, full_matrices=False)\n",
    "S"
   ]
  },
  {
   "cell_type": "code",
   "execution_count": 93,
   "metadata": {},
   "outputs": [
    {
     "data": {
      "text/plain": [
       "array([1., 1., 1., 1., 1.])"
      ]
     },
     "execution_count": 93,
     "metadata": {},
     "output_type": "execute_result"
    }
   ],
   "source": [
    "U,S,V = np.linalg.svd(Gamma_beta, full_matrices=False)\n",
    "S"
   ]
  },
  {
   "cell_type": "code",
   "execution_count": 94,
   "metadata": {},
   "outputs": [
    {
     "name": "stdout",
     "output_type": "stream",
     "text": [
      "1.0\n"
     ]
    }
   ],
   "source": [
    "#IN SAMPLE R2\n",
    "model_rt = np.zeros((rs.shape[0],rs.shape[1]-1))\n",
    "for i_t in range(model_rt.shape[1]):\n",
    "    model_rt[:,i_t] = Zts[:,:,i_t].dot(Gamma_b_0.dot(F_1[:,i_t+1]))\n",
    "total_noise = np.linalg.norm(rs[:,1:] - model_rt)**2\n",
    "rt_var = np.linalg.norm(rs[:,1:])**2\n",
    "total_r2 = 1- total_noise/rt_var\n",
    "print(total_r2)"
   ]
  },
  {
   "cell_type": "code",
   "execution_count": 82,
   "metadata": {},
   "outputs": [
    {
     "name": "stdout",
     "output_type": "stream",
     "text": [
      "(5, 120)\n",
      "119\n"
     ]
    }
   ],
   "source": [
    "print(F_1.shape)\n",
    "print(rs.shape[1]-1)"
   ]
  },
  {
   "cell_type": "code",
   "execution_count": 83,
   "metadata": {},
   "outputs": [
    {
     "data": {
      "text/plain": [
       "array([ 0.36671771,  0.15612759,  0.60847892,  1.52355061, -0.6561161 ,\n",
       "        0.72104466, -0.00309339,  0.6601298 ,  1.45940352,  0.73393477,\n",
       "       -0.03797502, -1.04821312, -1.05254517, -0.40733779, -1.49845696,\n",
       "       -1.12892231,  1.39330776, -0.31270142,  0.1958111 , -0.31617781,\n",
       "        0.89798966, -0.35599827,  1.14263187,  0.94642944,  0.05469121,\n",
       "       -0.77495817,  0.5055086 , -0.56380501, -0.44412913,  0.60399817,\n",
       "        0.16601724,  0.13428914,  0.31128146, -0.67806917,  0.22847857,\n",
       "        0.8549334 , -0.08598073, -0.48194468, -0.74997186,  0.08871501,\n",
       "        0.41418823, -0.69576035,  0.84896538, -0.85119548,  0.10527737,\n",
       "        0.15733762, -0.59786943,  0.22988228, -0.10779012, -1.00409542,\n",
       "        0.44954535,  0.75060902,  0.48156092,  0.25142985,  0.86323546,\n",
       "       -0.38584923,  0.24972714, -0.59897494, -0.01106911, -0.07229731,\n",
       "       -0.98695422, -0.14542275,  0.03681472, -0.71809909,  0.94558834,\n",
       "       -0.63511614, -0.47868986, -0.54226598,  0.85821614, -1.09130374,\n",
       "        0.4103221 ,  1.38276828,  0.50288063, -0.63901209, -1.32260337,\n",
       "        0.38156818,  1.11388939,  0.35282176, -0.36769304, -1.13230496,\n",
       "        0.29945856, -0.36311906,  0.46113772, -0.45137993,  0.35013237,\n",
       "       -0.65310275,  0.11563317,  0.55231858,  0.21775114,  0.00336913,\n",
       "        0.43054803,  0.17480298,  1.26099766, -0.73679511, -0.62761045,\n",
       "       -0.97613895, -0.98879308,  0.78100043,  0.20509175, -0.05443438,\n",
       "        0.67792003, -0.78015871, -1.17473247,  0.15383343, -0.90484542,\n",
       "        0.61446328,  0.53175858,  0.34825525, -0.77418216, -1.11594195,\n",
       "        0.11879542, -0.37950917,  0.7429864 ])"
      ]
     },
     "execution_count": 83,
     "metadata": {},
     "output_type": "execute_result"
    }
   ],
   "source": [
    "rs[:,119] - model_rt[:,118]"
   ]
  },
  {
   "cell_type": "code",
   "execution_count": 84,
   "metadata": {},
   "outputs": [
    {
     "name": "stdout",
     "output_type": "stream",
     "text": [
      "[[ 0.74758102  0.46643835  0.63795136  0.07127245  0.73085587]\n",
      " [-0.77352032 -0.35416934 -0.61598171 -0.18997749 -0.59826414]\n",
      " [-1.36038707 -0.68484568 -1.37726608 -0.52538927 -1.17617435]\n",
      " [ 0.09576781  0.59565483  0.03241608  0.11121535  0.48617339]\n",
      " [ 0.33135954  0.51483696  0.47304968  0.18935052 -0.02159877]]\n",
      "[[0.54982337 0.35416934 0.61598171 0.18997749 0.59826414]\n",
      " [0.49495542 0.44225317 0.89932165 0.43001259 0.81275836]\n",
      " [0.51140159 0.56086435 0.89425258 0.28949471 0.28306542]\n",
      " [0.42032747 0.88157049 0.56381732 0.21206276 0.90809187]\n",
      " [0.82352945 0.13826385 0.7760886  0.12508991 0.7674858 ]]\n"
     ]
    }
   ],
   "source": [
    "print(F_1[:,:5])\n",
    "print(F[:,:5])"
   ]
  },
  {
   "cell_type": "code",
   "execution_count": 87,
   "metadata": {},
   "outputs": [
    {
     "data": {
      "text/plain": [
       "array([[ 0.0430888 ,  0.30894269,  0.30912995, -0.00755389, -0.06253707],\n",
       "       [ 0.08725671, -0.18036551,  0.13745524,  0.03597937, -0.15748203],\n",
       "       [-0.28446969, -0.0795763 , -0.08995175, -0.0585467 ,  0.25252718],\n",
       "       [ 0.28959942,  0.0245696 ,  0.16558538, -0.21619565,  0.02767776],\n",
       "       [-0.02957534,  0.03080231, -0.17047265, -0.10841886,  0.15373126],\n",
       "       [ 0.14924431,  0.12808656, -0.05913732,  0.04728723,  0.0963166 ],\n",
       "       [ 0.12134678, -0.14438283,  0.32111973,  0.11896378, -0.17833396],\n",
       "       [-0.08793258,  0.1782246 , -0.03880886,  0.0951101 , -0.20246596],\n",
       "       [ 0.03962594,  0.00876916, -0.28792246,  0.01919903, -0.05067882],\n",
       "       [-0.08594929, -0.04403162, -0.01608013,  0.02990283, -0.34300989],\n",
       "       [-0.01843495, -0.13414287,  0.25313144, -0.04854223, -0.07471773],\n",
       "       [ 0.23128461,  0.0035698 ,  0.074463  ,  0.05460121,  0.38664182],\n",
       "       [ 0.1253214 , -0.44916991,  0.09109207, -0.27057358,  0.0559513 ],\n",
       "       [-0.20671775,  0.36628515,  0.03554207, -0.21055403,  0.24318471],\n",
       "       [ 0.0962552 ,  0.03748542,  0.26317224, -0.05002359,  0.0631285 ],\n",
       "       [-0.24401532, -0.32429403,  0.23711759,  0.20125308,  0.14966606],\n",
       "       [-0.06940345,  0.05507173, -0.32175945,  0.35981947,  0.14928271],\n",
       "       [ 0.06611141, -0.08431188, -0.11632138, -0.04614998, -0.0381538 ],\n",
       "       [ 0.04709172,  0.02941611,  0.09811785, -0.17581933,  0.0107798 ],\n",
       "       [ 0.16469699,  0.03445308,  0.00320373,  0.02025191,  0.19731969],\n",
       "       [ 0.02186283,  0.04217552,  0.01520746,  0.16968454, -0.27107252],\n",
       "       [-0.13696848, -0.20550693, -0.24861909,  0.04123578, -0.03446345],\n",
       "       [ 0.33270936, -0.04593922, -0.19771367, -0.12527413, -0.1534009 ],\n",
       "       [-0.09543887,  0.05579503, -0.13486926, -0.21474843,  0.09084012],\n",
       "       [-0.2827031 ,  0.0606194 ,  0.10582001,  0.07857722, -0.10550263],\n",
       "       [-0.09162999,  0.07572887,  0.13997411,  0.05409346,  0.15628381],\n",
       "       [ 0.18269547, -0.08870636,  0.09009204,  0.16698922,  0.10458054],\n",
       "       [ 0.38682281,  0.06901233, -0.08137228, -0.00294162, -0.05606833],\n",
       "       [ 0.11072098,  0.16328375, -0.05081885, -0.22621297,  0.00081405],\n",
       "       [-0.15783925, -0.04901214,  0.14510054,  0.06446055, -0.04139373],\n",
       "       [ 0.11433803, -0.25482073, -0.10826347, -0.04516887,  0.10229688],\n",
       "       [-0.08902311,  0.07381918,  0.14434642, -0.0165918 ,  0.15426577],\n",
       "       [-0.2388731 , -0.28338804, -0.05309309, -0.28805307, -0.14471944],\n",
       "       [-0.11898749, -0.0581404 ,  0.0035903 , -0.49244   ,  0.10977473],\n",
       "       [ 0.01866801, -0.07082706,  0.21784234,  0.16666642,  0.30166116],\n",
       "       [ 0.10705148, -0.24695337, -0.16431545,  0.20255702,  0.24133576]])"
      ]
     },
     "execution_count": 87,
     "metadata": {},
     "output_type": "execute_result"
    }
   ],
   "source": [
    "Gamma_beta"
   ]
  },
  {
   "cell_type": "code",
   "execution_count": 95,
   "metadata": {},
   "outputs": [],
   "source": [
    "U,S,V = np.linalg.svd(Gamma_b_0, full_matrices=False)\n",
    "Gamma_b_2 = Gamma_b_0.dot(V.T).dot(np.diag(1/S))\n",
    "F_2 = np.diag(S).dot(V).dot(F_1)"
   ]
  },
  {
   "cell_type": "code",
   "execution_count": null,
   "metadata": {},
   "outputs": [],
   "source": [
    "print(np.linalg.norm(F_1[:,1:] - F[:,1:]))\n",
    "print(np.linalg.norm(Gamma_b_0 - Gamma_beta))\n",
    "print(np.linalg.norm(F_2[:,1:] - F[:,1:]))\n",
    "print(np.linalg.norm(Gamma_b_2 - Gamma_beta))"
   ]
  }
 ],
 "metadata": {
  "kernelspec": {
   "display_name": "Python 3",
   "language": "python",
   "name": "python3"
  },
  "language_info": {
   "codemirror_mode": {
    "name": "ipython",
    "version": 3
   },
   "file_extension": ".py",
   "mimetype": "text/x-python",
   "name": "python",
   "nbconvert_exporter": "python",
   "pygments_lexer": "ipython3",
   "version": "3.7.3"
  }
 },
 "nbformat": 4,
 "nbformat_minor": 2
}
